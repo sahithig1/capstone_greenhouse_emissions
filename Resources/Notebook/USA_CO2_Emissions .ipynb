{
 "cells": [
  {
   "cell_type": "markdown",
   "id": "54df9816",
   "metadata": {},
   "source": [
    "## USA CO2 Emissions "
   ]
  },
  {
   "cell_type": "code",
   "execution_count": 1,
   "id": "aa97dac1",
   "metadata": {},
   "outputs": [],
   "source": [
    "# Import dependencies\n",
    "\n",
    "import pandas as pd\n",
    "import numpy as np\n"
   ]
  },
  {
   "cell_type": "code",
   "execution_count": 2,
   "id": "e38a71d3",
   "metadata": {
    "scrolled": true
   },
   "outputs": [],
   "source": [
    "# Read csv\n",
    "\n",
    "df=pd.read_csv('USA CO2 Unit Data.csv')"
   ]
  },
  {
   "cell_type": "code",
   "execution_count": 3,
   "id": "76c4c50e",
   "metadata": {
    "scrolled": true
   },
   "outputs": [
    {
     "name": "stdout",
     "output_type": "stream",
     "text": [
      "<class 'pandas.core.frame.DataFrame'>\n",
      "RangeIndex: 229853 entries, 0 to 229852\n",
      "Data columns (total 17 columns):\n",
      " #   Column                                     Non-Null Count   Dtype  \n",
      "---  ------                                     --------------   -----  \n",
      " 0   Facility Id                                229853 non-null  int64  \n",
      " 1   FRS Id                                     206379 non-null  float64\n",
      " 2   Facility Name                              229853 non-null  object \n",
      " 3   City                                       229853 non-null  object \n",
      " 4   State                                      229853 non-null  object \n",
      " 5   Primary NAICS Code                         229853 non-null  int64  \n",
      " 6   Reporting Year                             229853 non-null  int64  \n",
      " 7   Industry Type (subparts)                   229853 non-null  object \n",
      " 8   Industry Type (sectors)                    229831 non-null  object \n",
      " 9   Unit Name                                  229853 non-null  object \n",
      " 10  Unit Type                                  227527 non-null  object \n",
      " 11  Unit Reporting Method                      226458 non-null  object \n",
      " 12  Unit Maximum Rated Heat Input (mmBTU/hr)   183988 non-null  float64\n",
      " 13  Unit CO2 emissions (non-biogenic)          229853 non-null  float64\n",
      " 14  Unit Methane (CH4) emissions               229853 non-null  float64\n",
      " 15  Unit Nitrous Oxide (N2O) emissions         229853 non-null  float64\n",
      " 16  Unit Biogenic CO2 emissions (metric tons)  226458 non-null  float64\n",
      "dtypes: float64(6), int64(3), object(8)\n",
      "memory usage: 29.8+ MB\n"
     ]
    }
   ],
   "source": [
    "df.info()"
   ]
  },
  {
   "cell_type": "code",
   "execution_count": 4,
   "id": "34ef1e4e",
   "metadata": {},
   "outputs": [
    {
     "data": {
      "text/plain": [
       "3907501"
      ]
     },
     "execution_count": 4,
     "metadata": {},
     "output_type": "execute_result"
    }
   ],
   "source": [
    "df.size"
   ]
  },
  {
   "cell_type": "code",
   "execution_count": 5,
   "id": "34a3c18c",
   "metadata": {},
   "outputs": [
    {
     "data": {
      "text/plain": [
       "(229853, 17)"
      ]
     },
     "execution_count": 5,
     "metadata": {},
     "output_type": "execute_result"
    }
   ],
   "source": [
    "df.shape"
   ]
  },
  {
   "cell_type": "code",
   "execution_count": 6,
   "id": "995b624d",
   "metadata": {},
   "outputs": [
    {
     "data": {
      "text/plain": [
       "Facility Id                                      0\n",
       "FRS Id                                       23474\n",
       "Facility Name                                    0\n",
       "City                                             0\n",
       "State                                            0\n",
       "Primary NAICS Code                               0\n",
       "Reporting Year                                   0\n",
       "Industry Type (subparts)                         0\n",
       "Industry Type (sectors)                         22\n",
       "Unit Name                                        0\n",
       "Unit Type                                     2326\n",
       "Unit Reporting Method                         3395\n",
       "Unit Maximum Rated Heat Input (mmBTU/hr)     45865\n",
       "Unit CO2 emissions (non-biogenic)                0\n",
       "Unit Methane (CH4) emissions                     0\n",
       "Unit Nitrous Oxide (N2O) emissions               0\n",
       "Unit Biogenic CO2 emissions (metric tons)     3395\n",
       "dtype: int64"
      ]
     },
     "execution_count": 6,
     "metadata": {},
     "output_type": "execute_result"
    }
   ],
   "source": [
    "# Check for null values per column\n",
    "\n",
    "df.isnull().sum()"
   ]
  },
  {
   "cell_type": "code",
   "execution_count": 7,
   "id": "bd3c9fb5",
   "metadata": {
    "scrolled": true
   },
   "outputs": [
    {
     "data": {
      "text/plain": [
       "2714917"
      ]
     },
     "execution_count": 7,
     "metadata": {},
     "output_type": "execute_result"
    }
   ],
   "source": [
    "df=df.dropna()\n",
    "df.size"
   ]
  },
  {
   "cell_type": "code",
   "execution_count": 8,
   "id": "c2b218ee",
   "metadata": {},
   "outputs": [
    {
     "data": {
      "text/plain": [
       "(159701, 17)"
      ]
     },
     "execution_count": 8,
     "metadata": {},
     "output_type": "execute_result"
    }
   ],
   "source": [
    "df.shape"
   ]
  },
  {
   "cell_type": "code",
   "execution_count": 9,
   "id": "17c01e5a",
   "metadata": {
    "scrolled": false
   },
   "outputs": [
    {
     "data": {
      "text/html": [
       "<div>\n",
       "<style scoped>\n",
       "    .dataframe tbody tr th:only-of-type {\n",
       "        vertical-align: middle;\n",
       "    }\n",
       "\n",
       "    .dataframe tbody tr th {\n",
       "        vertical-align: top;\n",
       "    }\n",
       "\n",
       "    .dataframe thead th {\n",
       "        text-align: right;\n",
       "    }\n",
       "</style>\n",
       "<table border=\"1\" class=\"dataframe\">\n",
       "  <thead>\n",
       "    <tr style=\"text-align: right;\">\n",
       "      <th></th>\n",
       "      <th>City</th>\n",
       "      <th>State</th>\n",
       "      <th>Reporting Year</th>\n",
       "      <th>Industry Type (sectors)</th>\n",
       "      <th>Unit CO2 emissions (non-biogenic)</th>\n",
       "      <th>Unit Methane (CH4) emissions</th>\n",
       "      <th>Unit Nitrous Oxide (N2O) emissions</th>\n",
       "    </tr>\n",
       "  </thead>\n",
       "  <tbody>\n",
       "    <tr>\n",
       "      <th>7</th>\n",
       "      <td>BROOKLYN</td>\n",
       "      <td>NY</td>\n",
       "      <td>2021</td>\n",
       "      <td>Power Plants</td>\n",
       "      <td>84.4</td>\n",
       "      <td>0.0</td>\n",
       "      <td>0.0</td>\n",
       "    </tr>\n",
       "    <tr>\n",
       "      <th>8</th>\n",
       "      <td>BROOKLYN</td>\n",
       "      <td>NY</td>\n",
       "      <td>2021</td>\n",
       "      <td>Power Plants</td>\n",
       "      <td>78.9</td>\n",
       "      <td>0.0</td>\n",
       "      <td>0.0</td>\n",
       "    </tr>\n",
       "    <tr>\n",
       "      <th>11</th>\n",
       "      <td>BROOKLYN</td>\n",
       "      <td>NY</td>\n",
       "      <td>2020</td>\n",
       "      <td>Power Plants</td>\n",
       "      <td>90.7</td>\n",
       "      <td>0.0</td>\n",
       "      <td>0.0</td>\n",
       "    </tr>\n",
       "    <tr>\n",
       "      <th>12</th>\n",
       "      <td>BROOKLYN</td>\n",
       "      <td>NY</td>\n",
       "      <td>2020</td>\n",
       "      <td>Power Plants</td>\n",
       "      <td>108.4</td>\n",
       "      <td>0.0</td>\n",
       "      <td>0.0</td>\n",
       "    </tr>\n",
       "    <tr>\n",
       "      <th>15</th>\n",
       "      <td>BROOKLYN</td>\n",
       "      <td>NY</td>\n",
       "      <td>2019</td>\n",
       "      <td>Power Plants</td>\n",
       "      <td>30.2</td>\n",
       "      <td>0.0</td>\n",
       "      <td>0.0</td>\n",
       "    </tr>\n",
       "  </tbody>\n",
       "</table>\n",
       "</div>"
      ],
      "text/plain": [
       "        City State  Reporting Year Industry Type (sectors)  \\\n",
       "7   BROOKLYN    NY            2021            Power Plants   \n",
       "8   BROOKLYN    NY            2021            Power Plants   \n",
       "11  BROOKLYN    NY            2020            Power Plants   \n",
       "12  BROOKLYN    NY            2020            Power Plants   \n",
       "15  BROOKLYN    NY            2019            Power Plants   \n",
       "\n",
       "    Unit CO2 emissions (non-biogenic)   Unit Methane (CH4) emissions   \\\n",
       "7                                 84.4                            0.0   \n",
       "8                                 78.9                            0.0   \n",
       "11                                90.7                            0.0   \n",
       "12                               108.4                            0.0   \n",
       "15                                30.2                            0.0   \n",
       "\n",
       "    Unit Nitrous Oxide (N2O) emissions   \n",
       "7                                   0.0  \n",
       "8                                   0.0  \n",
       "11                                  0.0  \n",
       "12                                  0.0  \n",
       "15                                  0.0  "
      ]
     },
     "execution_count": 9,
     "metadata": {},
     "output_type": "execute_result"
    }
   ],
   "source": [
    "# Dropping FRS Id, Facility Name, Primary NAICS Code, Industry Type(subparts), Unit Type, Unit Reporting Method,\n",
    "# Unit Maximum Rated Heat Input (mmBTU/hr), Unit Biogenic CO2 emissions (metric tons) from the dataframe\n",
    "\n",
    "USA_CO2_df=df.drop(columns=['FRS Id','Facility Id', 'Facility Name', 'Primary NAICS Code', 'Industry Type (subparts)', 'Unit Type','Unit Name', 'Unit Reporting Method',\n",
    "'Unit Maximum Rated Heat Input (mmBTU/hr)', 'Unit Biogenic CO2 emissions (metric tons)'])\n",
    "USA_CO2_df.head()"
   ]
  },
  {
   "cell_type": "code",
   "execution_count": 10,
   "id": "390d50e1",
   "metadata": {},
   "outputs": [],
   "source": [
    "#Renaming Reporting Year to Year\n",
    "\n",
    "USA_CO2_df.rename(columns = {'Reporting Year':'Year', \n",
    "                             'Unit CO2 emissions (non-biogenic) ': 'Unit CO2 emissions',\n",
    "                            'Industry Type (sectors)':'Sectors'}, inplace = True)"
   ]
  },
  {
   "cell_type": "code",
   "execution_count": 11,
   "id": "b11ab421",
   "metadata": {},
   "outputs": [
    {
     "name": "stdout",
     "output_type": "stream",
     "text": [
      "<class 'pandas.core.frame.DataFrame'>\n",
      "Int64Index: 159701 entries, 7 to 229852\n",
      "Data columns (total 7 columns):\n",
      " #   Column                               Non-Null Count   Dtype  \n",
      "---  ------                               --------------   -----  \n",
      " 0   City                                 159701 non-null  object \n",
      " 1   State                                159701 non-null  object \n",
      " 2   Year                                 159701 non-null  int64  \n",
      " 3   Sectors                              159701 non-null  object \n",
      " 4   Unit CO2 emissions                   159701 non-null  float64\n",
      " 5   Unit Methane (CH4) emissions         159701 non-null  float64\n",
      " 6   Unit Nitrous Oxide (N2O) emissions   159701 non-null  float64\n",
      "dtypes: float64(3), int64(1), object(3)\n",
      "memory usage: 9.7+ MB\n"
     ]
    }
   ],
   "source": [
    "USA_CO2_df.info()"
   ]
  },
  {
   "cell_type": "code",
   "execution_count": 12,
   "id": "4f378682",
   "metadata": {
    "scrolled": true
   },
   "outputs": [
    {
     "data": {
      "text/html": [
       "<div>\n",
       "<style scoped>\n",
       "    .dataframe tbody tr th:only-of-type {\n",
       "        vertical-align: middle;\n",
       "    }\n",
       "\n",
       "    .dataframe tbody tr th {\n",
       "        vertical-align: top;\n",
       "    }\n",
       "\n",
       "    .dataframe thead th {\n",
       "        text-align: right;\n",
       "    }\n",
       "</style>\n",
       "<table border=\"1\" class=\"dataframe\">\n",
       "  <thead>\n",
       "    <tr style=\"text-align: right;\">\n",
       "      <th></th>\n",
       "      <th>City</th>\n",
       "      <th>State</th>\n",
       "      <th>Year</th>\n",
       "      <th>Sectors</th>\n",
       "      <th>Unit CO2 emissions</th>\n",
       "      <th>Unit Methane (CH4) emissions</th>\n",
       "      <th>Unit Nitrous Oxide (N2O) emissions</th>\n",
       "    </tr>\n",
       "  </thead>\n",
       "  <tbody>\n",
       "    <tr>\n",
       "      <th>7</th>\n",
       "      <td>BROOKLYN</td>\n",
       "      <td>NY</td>\n",
       "      <td>2021</td>\n",
       "      <td>Power Plants</td>\n",
       "      <td>84.4</td>\n",
       "      <td>0.0</td>\n",
       "      <td>0.0</td>\n",
       "    </tr>\n",
       "    <tr>\n",
       "      <th>8</th>\n",
       "      <td>BROOKLYN</td>\n",
       "      <td>NY</td>\n",
       "      <td>2021</td>\n",
       "      <td>Power Plants</td>\n",
       "      <td>78.9</td>\n",
       "      <td>0.0</td>\n",
       "      <td>0.0</td>\n",
       "    </tr>\n",
       "    <tr>\n",
       "      <th>11</th>\n",
       "      <td>BROOKLYN</td>\n",
       "      <td>NY</td>\n",
       "      <td>2020</td>\n",
       "      <td>Power Plants</td>\n",
       "      <td>90.7</td>\n",
       "      <td>0.0</td>\n",
       "      <td>0.0</td>\n",
       "    </tr>\n",
       "    <tr>\n",
       "      <th>12</th>\n",
       "      <td>BROOKLYN</td>\n",
       "      <td>NY</td>\n",
       "      <td>2020</td>\n",
       "      <td>Power Plants</td>\n",
       "      <td>108.4</td>\n",
       "      <td>0.0</td>\n",
       "      <td>0.0</td>\n",
       "    </tr>\n",
       "    <tr>\n",
       "      <th>15</th>\n",
       "      <td>BROOKLYN</td>\n",
       "      <td>NY</td>\n",
       "      <td>2019</td>\n",
       "      <td>Power Plants</td>\n",
       "      <td>30.2</td>\n",
       "      <td>0.0</td>\n",
       "      <td>0.0</td>\n",
       "    </tr>\n",
       "  </tbody>\n",
       "</table>\n",
       "</div>"
      ],
      "text/plain": [
       "        City State  Year       Sectors  Unit CO2 emissions  \\\n",
       "7   BROOKLYN    NY  2021  Power Plants                84.4   \n",
       "8   BROOKLYN    NY  2021  Power Plants                78.9   \n",
       "11  BROOKLYN    NY  2020  Power Plants                90.7   \n",
       "12  BROOKLYN    NY  2020  Power Plants               108.4   \n",
       "15  BROOKLYN    NY  2019  Power Plants                30.2   \n",
       "\n",
       "    Unit Methane (CH4) emissions   Unit Nitrous Oxide (N2O) emissions   \n",
       "7                             0.0                                  0.0  \n",
       "8                             0.0                                  0.0  \n",
       "11                            0.0                                  0.0  \n",
       "12                            0.0                                  0.0  \n",
       "15                            0.0                                  0.0  "
      ]
     },
     "execution_count": 12,
     "metadata": {},
     "output_type": "execute_result"
    }
   ],
   "source": [
    "USA_CO2_df.head()"
   ]
  },
  {
   "cell_type": "code",
   "execution_count": 13,
   "id": "83ff09bd",
   "metadata": {},
   "outputs": [
    {
     "data": {
      "text/plain": [
       "(159701, 7)"
      ]
     },
     "execution_count": 13,
     "metadata": {},
     "output_type": "execute_result"
    }
   ],
   "source": [
    "USA_CO2_df.shape"
   ]
  },
  {
   "cell_type": "code",
   "execution_count": 14,
   "id": "4d479ebd",
   "metadata": {},
   "outputs": [
    {
     "data": {
      "text/plain": [
       "City                                   0\n",
       "State                                  0\n",
       "Year                                   0\n",
       "Sectors                                0\n",
       "Unit CO2 emissions                     0\n",
       "Unit Methane (CH4) emissions           0\n",
       "Unit Nitrous Oxide (N2O) emissions     0\n",
       "dtype: int64"
      ]
     },
     "execution_count": 14,
     "metadata": {},
     "output_type": "execute_result"
    }
   ],
   "source": [
    "USA_CO2_df.isnull().sum()"
   ]
  },
  {
   "cell_type": "code",
   "execution_count": 15,
   "id": "aafc11ed",
   "metadata": {},
   "outputs": [
    {
     "data": {
      "text/plain": [
       "7         False\n",
       "8         False\n",
       "11        False\n",
       "12        False\n",
       "15        False\n",
       "          ...  \n",
       "229848    False\n",
       "229849    False\n",
       "229850    False\n",
       "229851    False\n",
       "229852    False\n",
       "Length: 159701, dtype: bool"
      ]
     },
     "execution_count": 15,
     "metadata": {},
     "output_type": "execute_result"
    }
   ],
   "source": [
    "USA_CO2_df.duplicated(keep=False)"
   ]
  },
  {
   "cell_type": "code",
   "execution_count": 16,
   "id": "15d14195",
   "metadata": {},
   "outputs": [
    {
     "data": {
      "text/plain": [
       "array(['Power Plants', 'Petroleum and Natural Gas Systems', 'Waste',\n",
       "       'Minerals', 'Other', 'Chemicals, Industrial Gas Suppliers',\n",
       "       'Chemicals, Industrial Gas Suppliers, Minerals', 'Pulp and Paper',\n",
       "       'Chemicals', 'Metals', 'Other, Waste', 'Other, Suppliers of CO2',\n",
       "       'Other, Suppliers of CO2, Waste', 'Chemicals, Suppliers of CO2',\n",
       "       'Natural Gas and Natural Gas Liquids Suppliers, Petroleum and Natural Gas Systems',\n",
       "       'Power Plants, Suppliers of CO2', 'Chemicals, Waste',\n",
       "       'Pulp and Paper, Waste', 'Metals, Waste',\n",
       "       'Petroleum and Natural Gas Systems, Suppliers of CO2',\n",
       "       'Metals, Power Plants', 'Refineries',\n",
       "       'Chemicals, Petroleum Product Suppliers, Refineries',\n",
       "       'Chemicals, Refineries', 'Petroleum Product Suppliers, Refineries',\n",
       "       'Import and Export of Equipment Containing Fluorintaed GHGs, Other',\n",
       "       'Minerals, Waste', 'Other, Power Plants', 'Power Plants, Waste',\n",
       "       'Injection of CO2, Other, Suppliers of CO2, Waste',\n",
       "       'Injection of CO2, Petroleum and Natural Gas Systems, Suppliers of CO2',\n",
       "       'Petroleum Product Suppliers, Petroleum and Natural Gas Systems',\n",
       "       'Natural Gas and Natural Gas Liquids Suppliers, Petroleum Product Suppliers, Petroleum and Natural Gas Systems',\n",
       "       'Petroleum Product Suppliers, Refineries, Waste',\n",
       "       'Petroleum Product Suppliers, Power Plants, Refineries',\n",
       "       'Power Plants, Refineries',\n",
       "       'Pulp and Paper, Suppliers of CO2, Waste',\n",
       "       'Pulp and Paper, Suppliers of CO2',\n",
       "       'Chemicals, Petroleum Product Suppliers, Refineries, Waste',\n",
       "       'Chemicals, Petroleum Product Suppliers, Refineries, Suppliers of CO2',\n",
       "       'Chemicals, Other, Petroleum Product Suppliers, Power Plants, Refineries',\n",
       "       'Chemicals, Petroleum Product Suppliers, Power Plants, Refineries',\n",
       "       'Injection of CO2, Natural Gas and Natural Gas Liquids Suppliers, Petroleum and Natural Gas Systems, Suppliers of CO2',\n",
       "       'Petroleum and Natural Gas Systems, Power Plants',\n",
       "       'Natural Gas and Natural Gas Liquids Suppliers, Petroleum and Natural Gas Systems, Power Plants',\n",
       "       'Chemicals, Petroleum Product Suppliers',\n",
       "       'Chemicals, Industrial Gas Suppliers, Waste',\n",
       "       'Chemicals, Refineries, Waste',\n",
       "       'Chemicals, Refineries, Suppliers of CO2',\n",
       "       'Natural Gas and Natural Gas Liquids Suppliers, Power Plants',\n",
       "       'Metals, Minerals',\n",
       "       'Petroleum Product Suppliers, Power Plants, Refineries, Suppliers of CO2',\n",
       "       'Chemicals, Petroleum Product Suppliers, Power Plants, Refineries, Suppliers of CO2',\n",
       "       'Chemicals, Power Plants, Refineries, Suppliers of CO2',\n",
       "       'Chemicals, Other, Petroleum and Natural Gas Systems, Waste',\n",
       "       'Chemicals, Power Plants', 'Chemicals, Power Plants, Waste',\n",
       "       'Injection of CO2, Natural Gas and Natural Gas Liquids Suppliers, Petroleum and Natural Gas Systems',\n",
       "       'Other, Petroleum Product Suppliers, Power Plants, Refineries',\n",
       "       'Chemicals, Coal-based Liquid Fuel Supply, Suppliers of CO2',\n",
       "       'Injection of CO2, Petroleum and Natural Gas Systems',\n",
       "       'Injection of CO2, Power Plants, Suppliers of CO2',\n",
       "       'Industrial Gas Suppliers, Other',\n",
       "       'Chemicals, Petroleum and Natural Gas Systems, Refineries',\n",
       "       'Natural Gas and Natural Gas Liquids Suppliers, Other',\n",
       "       'Petroleum Product Suppliers, Pulp and Paper, Waste',\n",
       "       'Chemicals, Petroleum Product Suppliers, Refineries, Suppliers of CO2, Waste'],\n",
       "      dtype=object)"
      ]
     },
     "execution_count": 16,
     "metadata": {},
     "output_type": "execute_result"
    }
   ],
   "source": [
    "sectors_df = USA_CO2_df.Sectors.unique()\n",
    "sectors_df"
   ]
  },
  {
   "cell_type": "code",
   "execution_count": 17,
   "id": "3874345f",
   "metadata": {},
   "outputs": [
    {
     "data": {
      "text/plain": [
       "Sectors    Year\n",
       "Chemicals  2011    43898128.26\n",
       "           2012    38524980.68\n",
       "           2013    44007221.72\n",
       "           2014    44865417.20\n",
       "           2015    46133748.31\n",
       "                      ...     \n",
       "Waste      2017     4166201.38\n",
       "           2018     4082443.92\n",
       "           2019     3972656.40\n",
       "           2020     3998599.24\n",
       "           2021     3959075.32\n",
       "Name: Unit CO2 emissions, Length: 649, dtype: float64"
      ]
     },
     "execution_count": 17,
     "metadata": {},
     "output_type": "execute_result"
    }
   ],
   "source": [
    "# groupingby the CO2 emissions by sectors and year\n",
    "\n",
    "USA_CO2_df.groupby(['Sectors','Year'])['Unit CO2 emissions'].sum()"
   ]
  },
  {
   "cell_type": "code",
   "execution_count": 18,
   "id": "1dfab4f0",
   "metadata": {},
   "outputs": [],
   "source": [
    "USA_CO2_df.to_csv('USA_CO2_data.csv', index=False)"
   ]
  },
  {
   "cell_type": "code",
   "execution_count": 19,
   "id": "9c17efb4",
   "metadata": {},
   "outputs": [
    {
     "name": "stdout",
     "output_type": "stream",
     "text": [
      "<class 'pandas.core.frame.DataFrame'>\n",
      "Int64Index: 159701 entries, 7 to 229852\n",
      "Data columns (total 7 columns):\n",
      " #   Column                               Non-Null Count   Dtype  \n",
      "---  ------                               --------------   -----  \n",
      " 0   City                                 159701 non-null  object \n",
      " 1   State                                159701 non-null  object \n",
      " 2   Year                                 159701 non-null  int64  \n",
      " 3   Sectors                              159701 non-null  object \n",
      " 4   Unit CO2 emissions                   159701 non-null  float64\n",
      " 5   Unit Methane (CH4) emissions         159701 non-null  float64\n",
      " 6   Unit Nitrous Oxide (N2O) emissions   159701 non-null  float64\n",
      "dtypes: float64(3), int64(1), object(3)\n",
      "memory usage: 9.7+ MB\n"
     ]
    }
   ],
   "source": [
    "USA_CO2_df.info()"
   ]
  },
  {
   "cell_type": "code",
   "execution_count": 25,
   "id": "e912bd0c",
   "metadata": {},
   "outputs": [
    {
     "data": {
      "text/html": [
       "<div>\n",
       "<style scoped>\n",
       "    .dataframe tbody tr th:only-of-type {\n",
       "        vertical-align: middle;\n",
       "    }\n",
       "\n",
       "    .dataframe tbody tr th {\n",
       "        vertical-align: top;\n",
       "    }\n",
       "\n",
       "    .dataframe thead th {\n",
       "        text-align: right;\n",
       "    }\n",
       "</style>\n",
       "<table border=\"1\" class=\"dataframe\">\n",
       "  <thead>\n",
       "    <tr style=\"text-align: right;\">\n",
       "      <th></th>\n",
       "      <th>City</th>\n",
       "      <th>State</th>\n",
       "      <th>Sectors</th>\n",
       "      <th>Unit CO2 emissions</th>\n",
       "      <th>Unit Methane (CH4) emissions</th>\n",
       "      <th>Unit Nitrous Oxide (N2O) emissions</th>\n",
       "    </tr>\n",
       "    <tr>\n",
       "      <th>Year</th>\n",
       "      <th></th>\n",
       "      <th></th>\n",
       "      <th></th>\n",
       "      <th></th>\n",
       "      <th></th>\n",
       "      <th></th>\n",
       "    </tr>\n",
       "  </thead>\n",
       "  <tbody>\n",
       "    <tr>\n",
       "      <th>2021-01-01</th>\n",
       "      <td>BROOKLYN</td>\n",
       "      <td>NY</td>\n",
       "      <td>Power Plants</td>\n",
       "      <td>84.4</td>\n",
       "      <td>0.00</td>\n",
       "      <td>0.000</td>\n",
       "    </tr>\n",
       "    <tr>\n",
       "      <th>2021-01-01</th>\n",
       "      <td>BROOKLYN</td>\n",
       "      <td>NY</td>\n",
       "      <td>Power Plants</td>\n",
       "      <td>78.9</td>\n",
       "      <td>0.00</td>\n",
       "      <td>0.000</td>\n",
       "    </tr>\n",
       "    <tr>\n",
       "      <th>2020-01-01</th>\n",
       "      <td>BROOKLYN</td>\n",
       "      <td>NY</td>\n",
       "      <td>Power Plants</td>\n",
       "      <td>90.7</td>\n",
       "      <td>0.00</td>\n",
       "      <td>0.000</td>\n",
       "    </tr>\n",
       "    <tr>\n",
       "      <th>2020-01-01</th>\n",
       "      <td>BROOKLYN</td>\n",
       "      <td>NY</td>\n",
       "      <td>Power Plants</td>\n",
       "      <td>108.4</td>\n",
       "      <td>0.00</td>\n",
       "      <td>0.000</td>\n",
       "    </tr>\n",
       "    <tr>\n",
       "      <th>2019-01-01</th>\n",
       "      <td>BROOKLYN</td>\n",
       "      <td>NY</td>\n",
       "      <td>Power Plants</td>\n",
       "      <td>30.2</td>\n",
       "      <td>0.00</td>\n",
       "      <td>0.000</td>\n",
       "    </tr>\n",
       "    <tr>\n",
       "      <th>...</th>\n",
       "      <td>...</td>\n",
       "      <td>...</td>\n",
       "      <td>...</td>\n",
       "      <td>...</td>\n",
       "      <td>...</td>\n",
       "      <td>...</td>\n",
       "    </tr>\n",
       "    <tr>\n",
       "      <th>2015-01-01</th>\n",
       "      <td>Briscoe</td>\n",
       "      <td>TX</td>\n",
       "      <td>Petroleum and Natural Gas Systems</td>\n",
       "      <td>33757.8</td>\n",
       "      <td>16.00</td>\n",
       "      <td>19.072</td>\n",
       "    </tr>\n",
       "    <tr>\n",
       "      <th>2014-01-01</th>\n",
       "      <td>Briscoe</td>\n",
       "      <td>TX</td>\n",
       "      <td>Petroleum and Natural Gas Systems</td>\n",
       "      <td>32901.2</td>\n",
       "      <td>15.50</td>\n",
       "      <td>18.476</td>\n",
       "    </tr>\n",
       "    <tr>\n",
       "      <th>2013-01-01</th>\n",
       "      <td>Briscoe</td>\n",
       "      <td>TX</td>\n",
       "      <td>Petroleum and Natural Gas Systems</td>\n",
       "      <td>42700.7</td>\n",
       "      <td>20.25</td>\n",
       "      <td>24.138</td>\n",
       "    </tr>\n",
       "    <tr>\n",
       "      <th>2012-01-01</th>\n",
       "      <td>Briscoe</td>\n",
       "      <td>TX</td>\n",
       "      <td>Petroleum and Natural Gas Systems</td>\n",
       "      <td>46840.7</td>\n",
       "      <td>22.00</td>\n",
       "      <td>26.224</td>\n",
       "    </tr>\n",
       "    <tr>\n",
       "      <th>2011-01-01</th>\n",
       "      <td>Briscoe</td>\n",
       "      <td>TX</td>\n",
       "      <td>Petroleum and Natural Gas Systems</td>\n",
       "      <td>53482.2</td>\n",
       "      <td>25.25</td>\n",
       "      <td>30.098</td>\n",
       "    </tr>\n",
       "  </tbody>\n",
       "</table>\n",
       "<p>159701 rows × 6 columns</p>\n",
       "</div>"
      ],
      "text/plain": [
       "                City State                            Sectors  \\\n",
       "Year                                                            \n",
       "2021-01-01  BROOKLYN    NY                       Power Plants   \n",
       "2021-01-01  BROOKLYN    NY                       Power Plants   \n",
       "2020-01-01  BROOKLYN    NY                       Power Plants   \n",
       "2020-01-01  BROOKLYN    NY                       Power Plants   \n",
       "2019-01-01  BROOKLYN    NY                       Power Plants   \n",
       "...              ...   ...                                ...   \n",
       "2015-01-01   Briscoe    TX  Petroleum and Natural Gas Systems   \n",
       "2014-01-01   Briscoe    TX  Petroleum and Natural Gas Systems   \n",
       "2013-01-01   Briscoe    TX  Petroleum and Natural Gas Systems   \n",
       "2012-01-01   Briscoe    TX  Petroleum and Natural Gas Systems   \n",
       "2011-01-01   Briscoe    TX  Petroleum and Natural Gas Systems   \n",
       "\n",
       "            Unit CO2 emissions  Unit Methane (CH4) emissions   \\\n",
       "Year                                                            \n",
       "2021-01-01                84.4                           0.00   \n",
       "2021-01-01                78.9                           0.00   \n",
       "2020-01-01                90.7                           0.00   \n",
       "2020-01-01               108.4                           0.00   \n",
       "2019-01-01                30.2                           0.00   \n",
       "...                        ...                            ...   \n",
       "2015-01-01             33757.8                          16.00   \n",
       "2014-01-01             32901.2                          15.50   \n",
       "2013-01-01             42700.7                          20.25   \n",
       "2012-01-01             46840.7                          22.00   \n",
       "2011-01-01             53482.2                          25.25   \n",
       "\n",
       "            Unit Nitrous Oxide (N2O) emissions   \n",
       "Year                                             \n",
       "2021-01-01                                0.000  \n",
       "2021-01-01                                0.000  \n",
       "2020-01-01                                0.000  \n",
       "2020-01-01                                0.000  \n",
       "2019-01-01                                0.000  \n",
       "...                                         ...  \n",
       "2015-01-01                               19.072  \n",
       "2014-01-01                               18.476  \n",
       "2013-01-01                               24.138  \n",
       "2012-01-01                               26.224  \n",
       "2011-01-01                               30.098  \n",
       "\n",
       "[159701 rows x 6 columns]"
      ]
     },
     "execution_count": 25,
     "metadata": {},
     "output_type": "execute_result"
    }
   ],
   "source": [
    "USA_CO2_df.assign(Year=pd.to_datetime(USA_CO2_df.Year, format='%Y')).set_index('Year')"
   ]
  },
  {
   "cell_type": "code",
   "execution_count": null,
   "id": "e72062b9",
   "metadata": {},
   "outputs": [],
   "source": []
  },
  {
   "cell_type": "code",
   "execution_count": null,
   "id": "280974ca",
   "metadata": {},
   "outputs": [],
   "source": []
  },
  {
   "cell_type": "code",
   "execution_count": null,
   "id": "41342b54",
   "metadata": {},
   "outputs": [],
   "source": []
  },
  {
   "cell_type": "code",
   "execution_count": null,
   "id": "fceef7e5",
   "metadata": {},
   "outputs": [],
   "source": []
  },
  {
   "cell_type": "code",
   "execution_count": null,
   "id": "723142ae",
   "metadata": {},
   "outputs": [],
   "source": []
  }
 ],
 "metadata": {
  "kernelspec": {
   "display_name": "Python 3 (ipykernel)",
   "language": "python",
   "name": "python3"
  },
  "language_info": {
   "codemirror_mode": {
    "name": "ipython",
    "version": 3
   },
   "file_extension": ".py",
   "mimetype": "text/x-python",
   "name": "python",
   "nbconvert_exporter": "python",
   "pygments_lexer": "ipython3",
   "version": "3.9.12"
  }
 },
 "nbformat": 4,
 "nbformat_minor": 5
}
