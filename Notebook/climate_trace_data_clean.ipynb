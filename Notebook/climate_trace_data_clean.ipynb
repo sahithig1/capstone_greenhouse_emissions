{
 "cells": [
  {
   "cell_type": "code",
   "execution_count": 1,
   "id": "b9891581",
   "metadata": {},
   "outputs": [],
   "source": [
    "# Import dependencies\n",
    "import pandas as pd\n",
    "import numpy as np"
   ]
  },
  {
   "cell_type": "code",
   "execution_count": 2,
   "id": "bdf15201",
   "metadata": {},
   "outputs": [
    {
     "data": {
      "text/html": [
       "<div>\n",
       "<style scoped>\n",
       "    .dataframe tbody tr th:only-of-type {\n",
       "        vertical-align: middle;\n",
       "    }\n",
       "\n",
       "    .dataframe tbody tr th {\n",
       "        vertical-align: top;\n",
       "    }\n",
       "\n",
       "    .dataframe thead th {\n",
       "        text-align: right;\n",
       "    }\n",
       "</style>\n",
       "<table border=\"1\" class=\"dataframe\">\n",
       "  <thead>\n",
       "    <tr style=\"text-align: right;\">\n",
       "      <th></th>\n",
       "      <th>iso3_country</th>\n",
       "      <th>start_time</th>\n",
       "      <th>end_time</th>\n",
       "      <th>original_inventory_sector</th>\n",
       "      <th>gas</th>\n",
       "      <th>emissions_quantity</th>\n",
       "      <th>emissions_quantity_units</th>\n",
       "      <th>temporal_granularity</th>\n",
       "      <th>created_date</th>\n",
       "      <th>modified_date</th>\n",
       "    </tr>\n",
       "  </thead>\n",
       "  <tbody>\n",
       "    <tr>\n",
       "      <th>731</th>\n",
       "      <td>TCD</td>\n",
       "      <td>2015-01-01 00:00:00</td>\n",
       "      <td>2015-12-31 00:00:00</td>\n",
       "      <td>oil-and-gas-production-and-transport</td>\n",
       "      <td>co2</td>\n",
       "      <td>1280418.063</td>\n",
       "      <td>tonnes</td>\n",
       "      <td>annual</td>\n",
       "      <td>2022-09-05 15:48:05.471737</td>\n",
       "      <td>NaN</td>\n",
       "    </tr>\n",
       "    <tr>\n",
       "      <th>7586</th>\n",
       "      <td>YEM</td>\n",
       "      <td>2021-01-01 00:00:00</td>\n",
       "      <td>2021-12-31 00:00:00</td>\n",
       "      <td>oil-and-gas-production-and-transport</td>\n",
       "      <td>n2o</td>\n",
       "      <td>0.000</td>\n",
       "      <td>tonnes</td>\n",
       "      <td>annual</td>\n",
       "      <td>2022-09-05 15:48:05.558246</td>\n",
       "      <td>NaN</td>\n",
       "    </tr>\n",
       "    <tr>\n",
       "      <th>3106</th>\n",
       "      <td>CPV</td>\n",
       "      <td>2015-01-01 00:00:00</td>\n",
       "      <td>2015-12-31 00:00:00</td>\n",
       "      <td>oil-and-gas-production-and-transport</td>\n",
       "      <td>co2e_100yr</td>\n",
       "      <td>NaN</td>\n",
       "      <td>tonnes</td>\n",
       "      <td>annual</td>\n",
       "      <td>2022-09-05 15:48:05.566985</td>\n",
       "      <td>NaN</td>\n",
       "    </tr>\n",
       "    <tr>\n",
       "      <th>8042</th>\n",
       "      <td>CYM</td>\n",
       "      <td>2017-01-01 00:00:00</td>\n",
       "      <td>2017-12-31 00:00:00</td>\n",
       "      <td>oil-and-gas-production-and-transport</td>\n",
       "      <td>n2o</td>\n",
       "      <td>0.000</td>\n",
       "      <td>tonnes</td>\n",
       "      <td>annual</td>\n",
       "      <td>2022-09-05 15:48:05.620856</td>\n",
       "      <td>NaN</td>\n",
       "    </tr>\n",
       "    <tr>\n",
       "      <th>6373</th>\n",
       "      <td>AIA</td>\n",
       "      <td>2020-01-01 00:00:00</td>\n",
       "      <td>2020-12-31 00:00:00</td>\n",
       "      <td>oil-and-gas-production-and-transport</td>\n",
       "      <td>co2e_100yr</td>\n",
       "      <td>NaN</td>\n",
       "      <td>tonnes</td>\n",
       "      <td>annual</td>\n",
       "      <td>2022-09-05 15:48:05.681356</td>\n",
       "      <td>NaN</td>\n",
       "    </tr>\n",
       "  </tbody>\n",
       "</table>\n",
       "</div>"
      ],
      "text/plain": [
       "     iso3_country           start_time             end_time  \\\n",
       "731           TCD  2015-01-01 00:00:00  2015-12-31 00:00:00   \n",
       "7586          YEM  2021-01-01 00:00:00  2021-12-31 00:00:00   \n",
       "3106          CPV  2015-01-01 00:00:00  2015-12-31 00:00:00   \n",
       "8042          CYM  2017-01-01 00:00:00  2017-12-31 00:00:00   \n",
       "6373          AIA  2020-01-01 00:00:00  2020-12-31 00:00:00   \n",
       "\n",
       "                 original_inventory_sector         gas  emissions_quantity  \\\n",
       "731   oil-and-gas-production-and-transport         co2         1280418.063   \n",
       "7586  oil-and-gas-production-and-transport         n2o               0.000   \n",
       "3106  oil-and-gas-production-and-transport  co2e_100yr                 NaN   \n",
       "8042  oil-and-gas-production-and-transport         n2o               0.000   \n",
       "6373  oil-and-gas-production-and-transport  co2e_100yr                 NaN   \n",
       "\n",
       "     emissions_quantity_units temporal_granularity  \\\n",
       "731                    tonnes               annual   \n",
       "7586                   tonnes               annual   \n",
       "3106                   tonnes               annual   \n",
       "8042                   tonnes               annual   \n",
       "6373                   tonnes               annual   \n",
       "\n",
       "                    created_date modified_date  \n",
       "731   2022-09-05 15:48:05.471737           NaN  \n",
       "7586  2022-09-05 15:48:05.558246           NaN  \n",
       "3106  2022-09-05 15:48:05.566985           NaN  \n",
       "8042  2022-09-05 15:48:05.620856           NaN  \n",
       "6373  2022-09-05 15:48:05.681356           NaN  "
      ]
     },
     "execution_count": 2,
     "metadata": {},
     "output_type": "execute_result"
    }
   ],
   "source": [
    "# Read the file into pandas dataframe\n",
    "file_path = \"../Resources/country_oil-and-gas-production-and-transport_emissions.csv\"\n",
    "original_oil_gas_df = pd.read_csv(file_path)\n",
    "original_oil_gas_df.sample(5)"
   ]
  },
  {
   "cell_type": "markdown",
   "id": "10271efa",
   "metadata": {},
   "source": [
    "## Get overview of data"
   ]
  },
  {
   "cell_type": "code",
   "execution_count": 3,
   "id": "bf56ab6c",
   "metadata": {},
   "outputs": [
    {
     "data": {
      "text/plain": [
       "(8785, 10)"
      ]
     },
     "execution_count": 3,
     "metadata": {},
     "output_type": "execute_result"
    }
   ],
   "source": [
    "# Rows and columns of data set\n",
    "original_oil_gas_df.shape"
   ]
  },
  {
   "cell_type": "code",
   "execution_count": 4,
   "id": "fefd0b54",
   "metadata": {},
   "outputs": [
    {
     "data": {
      "text/plain": [
       "Index(['iso3_country', 'start_time', 'end_time', 'original_inventory_sector',\n",
       "       'gas', 'emissions_quantity', 'emissions_quantity_units',\n",
       "       'temporal_granularity', 'created_date', 'modified_date'],\n",
       "      dtype='object')"
      ]
     },
     "execution_count": 4,
     "metadata": {},
     "output_type": "execute_result"
    }
   ],
   "source": [
    "# Available columns\n",
    "original_oil_gas_df.columns"
   ]
  },
  {
   "cell_type": "code",
   "execution_count": 5,
   "id": "b74f6d3f",
   "metadata": {},
   "outputs": [
    {
     "data": {
      "text/plain": [
       "iso3_country                  object\n",
       "start_time                    object\n",
       "end_time                      object\n",
       "original_inventory_sector     object\n",
       "gas                           object\n",
       "emissions_quantity           float64\n",
       "emissions_quantity_units      object\n",
       "temporal_granularity          object\n",
       "created_date                  object\n",
       "modified_date                 object\n",
       "dtype: object"
      ]
     },
     "execution_count": 5,
     "metadata": {},
     "output_type": "execute_result"
    }
   ],
   "source": [
    "# Datatypes of columns\n",
    "original_oil_gas_df.dtypes"
   ]
  },
  {
   "cell_type": "code",
   "execution_count": 6,
   "id": "e40b1f73",
   "metadata": {},
   "outputs": [
    {
     "data": {
      "text/html": [
       "<div>\n",
       "<style scoped>\n",
       "    .dataframe tbody tr th:only-of-type {\n",
       "        vertical-align: middle;\n",
       "    }\n",
       "\n",
       "    .dataframe tbody tr th {\n",
       "        vertical-align: top;\n",
       "    }\n",
       "\n",
       "    .dataframe thead th {\n",
       "        text-align: right;\n",
       "    }\n",
       "</style>\n",
       "<table border=\"1\" class=\"dataframe\">\n",
       "  <thead>\n",
       "    <tr style=\"text-align: right;\">\n",
       "      <th></th>\n",
       "      <th>emissions_quantity</th>\n",
       "    </tr>\n",
       "  </thead>\n",
       "  <tbody>\n",
       "    <tr>\n",
       "      <th>count</th>\n",
       "      <td>4.937000e+03</td>\n",
       "    </tr>\n",
       "    <tr>\n",
       "      <th>mean</th>\n",
       "      <td>2.609297e+07</td>\n",
       "    </tr>\n",
       "    <tr>\n",
       "      <th>std</th>\n",
       "      <td>1.369324e+08</td>\n",
       "    </tr>\n",
       "    <tr>\n",
       "      <th>min</th>\n",
       "      <td>0.000000e+00</td>\n",
       "    </tr>\n",
       "    <tr>\n",
       "      <th>25%</th>\n",
       "      <td>0.000000e+00</td>\n",
       "    </tr>\n",
       "    <tr>\n",
       "      <th>50%</th>\n",
       "      <td>3.706460e+02</td>\n",
       "    </tr>\n",
       "    <tr>\n",
       "      <th>75%</th>\n",
       "      <td>2.375247e+06</td>\n",
       "    </tr>\n",
       "    <tr>\n",
       "      <th>max</th>\n",
       "      <td>2.359530e+09</td>\n",
       "    </tr>\n",
       "  </tbody>\n",
       "</table>\n",
       "</div>"
      ],
      "text/plain": [
       "       emissions_quantity\n",
       "count        4.937000e+03\n",
       "mean         2.609297e+07\n",
       "std          1.369324e+08\n",
       "min          0.000000e+00\n",
       "25%          0.000000e+00\n",
       "50%          3.706460e+02\n",
       "75%          2.375247e+06\n",
       "max          2.359530e+09"
      ]
     },
     "execution_count": 6,
     "metadata": {},
     "output_type": "execute_result"
    }
   ],
   "source": [
    "# Descriptive statistics\n",
    "original_oil_gas_df.describe()"
   ]
  },
  {
   "cell_type": "markdown",
   "id": "cf8b2f75",
   "metadata": {},
   "source": [
    "## Data clean and prep"
   ]
  },
  {
   "cell_type": "code",
   "execution_count": 7,
   "id": "a800722c",
   "metadata": {},
   "outputs": [
    {
     "data": {
      "text/html": [
       "<div>\n",
       "<style scoped>\n",
       "    .dataframe tbody tr th:only-of-type {\n",
       "        vertical-align: middle;\n",
       "    }\n",
       "\n",
       "    .dataframe tbody tr th {\n",
       "        vertical-align: top;\n",
       "    }\n",
       "\n",
       "    .dataframe thead th {\n",
       "        text-align: right;\n",
       "    }\n",
       "</style>\n",
       "<table border=\"1\" class=\"dataframe\">\n",
       "  <thead>\n",
       "    <tr style=\"text-align: right;\">\n",
       "      <th></th>\n",
       "      <th>iso3_country</th>\n",
       "      <th>start_time</th>\n",
       "      <th>end_time</th>\n",
       "      <th>original_inventory_sector</th>\n",
       "      <th>gas</th>\n",
       "      <th>emissions_quantity</th>\n",
       "      <th>emissions_quantity_units</th>\n",
       "      <th>temporal_granularity</th>\n",
       "      <th>created_date</th>\n",
       "      <th>modified_date</th>\n",
       "    </tr>\n",
       "  </thead>\n",
       "  <tbody>\n",
       "    <tr>\n",
       "      <th>0</th>\n",
       "      <td>AGO</td>\n",
       "      <td>2015-01-01 00:00:00</td>\n",
       "      <td>2015-12-31 00:00:00</td>\n",
       "      <td>oil-and-gas-production-and-transport</td>\n",
       "      <td>n2o</td>\n",
       "      <td>0.0</td>\n",
       "      <td>tonnes</td>\n",
       "      <td>annual</td>\n",
       "      <td>2022-09-05 15:48:05.453485</td>\n",
       "      <td>NaN</td>\n",
       "    </tr>\n",
       "    <tr>\n",
       "      <th>1</th>\n",
       "      <td>TON</td>\n",
       "      <td>2021-01-01 00:00:00</td>\n",
       "      <td>2021-12-31 00:00:00</td>\n",
       "      <td>oil-and-gas-production-and-transport</td>\n",
       "      <td>co2</td>\n",
       "      <td>NaN</td>\n",
       "      <td>tonnes</td>\n",
       "      <td>annual</td>\n",
       "      <td>2022-09-05 15:48:05.698281</td>\n",
       "      <td>NaN</td>\n",
       "    </tr>\n",
       "    <tr>\n",
       "      <th>2</th>\n",
       "      <td>TON</td>\n",
       "      <td>2021-01-01 00:00:00</td>\n",
       "      <td>2021-12-31 00:00:00</td>\n",
       "      <td>oil-and-gas-production-and-transport</td>\n",
       "      <td>ch4</td>\n",
       "      <td>NaN</td>\n",
       "      <td>tonnes</td>\n",
       "      <td>annual</td>\n",
       "      <td>2022-09-05 15:48:05.698292</td>\n",
       "      <td>NaN</td>\n",
       "    </tr>\n",
       "    <tr>\n",
       "      <th>3</th>\n",
       "      <td>TON</td>\n",
       "      <td>2021-01-01 00:00:00</td>\n",
       "      <td>2021-12-31 00:00:00</td>\n",
       "      <td>oil-and-gas-production-and-transport</td>\n",
       "      <td>co2e_100yr</td>\n",
       "      <td>NaN</td>\n",
       "      <td>tonnes</td>\n",
       "      <td>annual</td>\n",
       "      <td>2022-09-05 15:48:05.698302</td>\n",
       "      <td>NaN</td>\n",
       "    </tr>\n",
       "    <tr>\n",
       "      <th>4</th>\n",
       "      <td>TON</td>\n",
       "      <td>2021-01-01 00:00:00</td>\n",
       "      <td>2021-12-31 00:00:00</td>\n",
       "      <td>oil-and-gas-production-and-transport</td>\n",
       "      <td>co2e_20yr</td>\n",
       "      <td>NaN</td>\n",
       "      <td>tonnes</td>\n",
       "      <td>annual</td>\n",
       "      <td>2022-09-05 15:48:05.698308</td>\n",
       "      <td>NaN</td>\n",
       "    </tr>\n",
       "  </tbody>\n",
       "</table>\n",
       "</div>"
      ],
      "text/plain": [
       "  iso3_country           start_time             end_time  \\\n",
       "0          AGO  2015-01-01 00:00:00  2015-12-31 00:00:00   \n",
       "1          TON  2021-01-01 00:00:00  2021-12-31 00:00:00   \n",
       "2          TON  2021-01-01 00:00:00  2021-12-31 00:00:00   \n",
       "3          TON  2021-01-01 00:00:00  2021-12-31 00:00:00   \n",
       "4          TON  2021-01-01 00:00:00  2021-12-31 00:00:00   \n",
       "\n",
       "              original_inventory_sector         gas  emissions_quantity  \\\n",
       "0  oil-and-gas-production-and-transport         n2o                 0.0   \n",
       "1  oil-and-gas-production-and-transport         co2                 NaN   \n",
       "2  oil-and-gas-production-and-transport         ch4                 NaN   \n",
       "3  oil-and-gas-production-and-transport  co2e_100yr                 NaN   \n",
       "4  oil-and-gas-production-and-transport   co2e_20yr                 NaN   \n",
       "\n",
       "  emissions_quantity_units temporal_granularity                created_date  \\\n",
       "0                   tonnes               annual  2022-09-05 15:48:05.453485   \n",
       "1                   tonnes               annual  2022-09-05 15:48:05.698281   \n",
       "2                   tonnes               annual  2022-09-05 15:48:05.698292   \n",
       "3                   tonnes               annual  2022-09-05 15:48:05.698302   \n",
       "4                   tonnes               annual  2022-09-05 15:48:05.698308   \n",
       "\n",
       "  modified_date  \n",
       "0           NaN  \n",
       "1           NaN  \n",
       "2           NaN  \n",
       "3           NaN  \n",
       "4           NaN  "
      ]
     },
     "execution_count": 7,
     "metadata": {},
     "output_type": "execute_result"
    }
   ],
   "source": [
    "# Assign original dataframe to another that will be modified\n",
    "oil_gas_df = original_oil_gas_df\n",
    "oil_gas_df.head()"
   ]
  },
  {
   "cell_type": "code",
   "execution_count": 8,
   "id": "48394b30",
   "metadata": {},
   "outputs": [
    {
     "data": {
      "text/plain": [
       "8785"
      ]
     },
     "execution_count": 8,
     "metadata": {},
     "output_type": "execute_result"
    }
   ],
   "source": [
    "# Original number of rows\n",
    "oil_gas_df.shape[0]"
   ]
  },
  {
   "cell_type": "code",
   "execution_count": 9,
   "id": "2f817546",
   "metadata": {},
   "outputs": [
    {
     "data": {
      "text/plain": [
       "10"
      ]
     },
     "execution_count": 9,
     "metadata": {},
     "output_type": "execute_result"
    }
   ],
   "source": [
    "# Original number of columns\n",
    "oil_gas_df.shape[1]"
   ]
  },
  {
   "cell_type": "code",
   "execution_count": 10,
   "id": "7fe116a3",
   "metadata": {},
   "outputs": [
    {
     "data": {
      "text/plain": [
       "iso3_country                    0\n",
       "start_time                      0\n",
       "end_time                        0\n",
       "original_inventory_sector       0\n",
       "gas                             0\n",
       "emissions_quantity           3848\n",
       "emissions_quantity_units        0\n",
       "temporal_granularity            0\n",
       "created_date                    0\n",
       "modified_date                7549\n",
       "dtype: int64"
      ]
     },
     "execution_count": 10,
     "metadata": {},
     "output_type": "execute_result"
    }
   ],
   "source": [
    "# Find the null counts in each column\n",
    "oil_gas_df.isnull().sum()"
   ]
  },
  {
   "cell_type": "code",
   "execution_count": 11,
   "id": "56bcc90f",
   "metadata": {},
   "outputs": [
    {
     "data": {
      "text/html": [
       "<div>\n",
       "<style scoped>\n",
       "    .dataframe tbody tr th:only-of-type {\n",
       "        vertical-align: middle;\n",
       "    }\n",
       "\n",
       "    .dataframe tbody tr th {\n",
       "        vertical-align: top;\n",
       "    }\n",
       "\n",
       "    .dataframe thead th {\n",
       "        text-align: right;\n",
       "    }\n",
       "</style>\n",
       "<table border=\"1\" class=\"dataframe\">\n",
       "  <thead>\n",
       "    <tr style=\"text-align: right;\">\n",
       "      <th></th>\n",
       "      <th>iso3_country</th>\n",
       "      <th>start_time</th>\n",
       "      <th>end_time</th>\n",
       "      <th>original_inventory_sector</th>\n",
       "      <th>gas</th>\n",
       "      <th>emissions_quantity</th>\n",
       "    </tr>\n",
       "  </thead>\n",
       "  <tbody>\n",
       "    <tr>\n",
       "      <th>1062</th>\n",
       "      <td>TCD</td>\n",
       "      <td>2016-01-01 00:00:00</td>\n",
       "      <td>2016-12-31 00:00:00</td>\n",
       "      <td>oil-and-gas-production-and-transport</td>\n",
       "      <td>ch4</td>\n",
       "      <td>46291.149390</td>\n",
       "    </tr>\n",
       "    <tr>\n",
       "      <th>7597</th>\n",
       "      <td>TUR</td>\n",
       "      <td>2015-01-01 00:00:00</td>\n",
       "      <td>2015-12-31 00:00:00</td>\n",
       "      <td>oil-and-gas-production-and-transport</td>\n",
       "      <td>n2o</td>\n",
       "      <td>0.000000</td>\n",
       "    </tr>\n",
       "    <tr>\n",
       "      <th>6852</th>\n",
       "      <td>KOR</td>\n",
       "      <td>2021-01-01 00:00:00</td>\n",
       "      <td>2021-12-31 00:00:00</td>\n",
       "      <td>oil-and-gas-production-and-transport</td>\n",
       "      <td>co2e_20yr</td>\n",
       "      <td>529551.181600</td>\n",
       "    </tr>\n",
       "    <tr>\n",
       "      <th>1933</th>\n",
       "      <td>FRA</td>\n",
       "      <td>2019-01-01 00:00:00</td>\n",
       "      <td>2019-12-31 00:00:00</td>\n",
       "      <td>oil-and-gas-production-and-transport</td>\n",
       "      <td>ch4</td>\n",
       "      <td>7036.684331</td>\n",
       "    </tr>\n",
       "    <tr>\n",
       "      <th>1928</th>\n",
       "      <td>EST</td>\n",
       "      <td>2019-01-01 00:00:00</td>\n",
       "      <td>2019-12-31 00:00:00</td>\n",
       "      <td>oil-and-gas-production-and-transport</td>\n",
       "      <td>co2</td>\n",
       "      <td>253787.346400</td>\n",
       "    </tr>\n",
       "  </tbody>\n",
       "</table>\n",
       "</div>"
      ],
      "text/plain": [
       "     iso3_country           start_time             end_time  \\\n",
       "1062          TCD  2016-01-01 00:00:00  2016-12-31 00:00:00   \n",
       "7597          TUR  2015-01-01 00:00:00  2015-12-31 00:00:00   \n",
       "6852          KOR  2021-01-01 00:00:00  2021-12-31 00:00:00   \n",
       "1933          FRA  2019-01-01 00:00:00  2019-12-31 00:00:00   \n",
       "1928          EST  2019-01-01 00:00:00  2019-12-31 00:00:00   \n",
       "\n",
       "                 original_inventory_sector        gas  emissions_quantity  \n",
       "1062  oil-and-gas-production-and-transport        ch4        46291.149390  \n",
       "7597  oil-and-gas-production-and-transport        n2o            0.000000  \n",
       "6852  oil-and-gas-production-and-transport  co2e_20yr       529551.181600  \n",
       "1933  oil-and-gas-production-and-transport        ch4         7036.684331  \n",
       "1928  oil-and-gas-production-and-transport        co2       253787.346400  "
      ]
     },
     "execution_count": 11,
     "metadata": {},
     "output_type": "execute_result"
    }
   ],
   "source": [
    "# Drop temporal_granularity column: All values are null\n",
    "# Drop created date, modified_date, emissions_quantity_units columns: provide no beneficial information\n",
    "oil_gas_df = oil_gas_df.drop(['temporal_granularity','emissions_quantity_units','created_date','modified_date'], axis=1)\n",
    "oil_gas_df.sample(5)"
   ]
  },
  {
   "cell_type": "code",
   "execution_count": 12,
   "id": "808b1e0c",
   "metadata": {},
   "outputs": [
    {
     "data": {
      "text/plain": [
       "iso3_country                  object\n",
       "start_time                    object\n",
       "end_time                      object\n",
       "original_inventory_sector     object\n",
       "gas                           object\n",
       "emissions_quantity           float64\n",
       "dtype: object"
      ]
     },
     "execution_count": 12,
     "metadata": {},
     "output_type": "execute_result"
    }
   ],
   "source": [
    "oil_gas_df.dtypes"
   ]
  },
  {
   "cell_type": "code",
   "execution_count": 13,
   "id": "388f8843",
   "metadata": {},
   "outputs": [
    {
     "data": {
      "text/html": [
       "<div>\n",
       "<style scoped>\n",
       "    .dataframe tbody tr th:only-of-type {\n",
       "        vertical-align: middle;\n",
       "    }\n",
       "\n",
       "    .dataframe tbody tr th {\n",
       "        vertical-align: top;\n",
       "    }\n",
       "\n",
       "    .dataframe thead th {\n",
       "        text-align: right;\n",
       "    }\n",
       "</style>\n",
       "<table border=\"1\" class=\"dataframe\">\n",
       "  <thead>\n",
       "    <tr style=\"text-align: right;\">\n",
       "      <th></th>\n",
       "      <th>iso3_country</th>\n",
       "      <th>start_time</th>\n",
       "      <th>end_time</th>\n",
       "      <th>original_inventory_sector</th>\n",
       "      <th>gas</th>\n",
       "      <th>emissions_quantity</th>\n",
       "      <th>year</th>\n",
       "    </tr>\n",
       "  </thead>\n",
       "  <tbody>\n",
       "    <tr>\n",
       "      <th>0</th>\n",
       "      <td>AGO</td>\n",
       "      <td>2015-01-01 00:00:00</td>\n",
       "      <td>2015-12-31 00:00:00</td>\n",
       "      <td>oil-and-gas-production-and-transport</td>\n",
       "      <td>n2o</td>\n",
       "      <td>0.0</td>\n",
       "      <td>2015</td>\n",
       "    </tr>\n",
       "    <tr>\n",
       "      <th>1</th>\n",
       "      <td>TON</td>\n",
       "      <td>2021-01-01 00:00:00</td>\n",
       "      <td>2021-12-31 00:00:00</td>\n",
       "      <td>oil-and-gas-production-and-transport</td>\n",
       "      <td>co2</td>\n",
       "      <td>NaN</td>\n",
       "      <td>2021</td>\n",
       "    </tr>\n",
       "    <tr>\n",
       "      <th>2</th>\n",
       "      <td>TON</td>\n",
       "      <td>2021-01-01 00:00:00</td>\n",
       "      <td>2021-12-31 00:00:00</td>\n",
       "      <td>oil-and-gas-production-and-transport</td>\n",
       "      <td>ch4</td>\n",
       "      <td>NaN</td>\n",
       "      <td>2021</td>\n",
       "    </tr>\n",
       "    <tr>\n",
       "      <th>3</th>\n",
       "      <td>TON</td>\n",
       "      <td>2021-01-01 00:00:00</td>\n",
       "      <td>2021-12-31 00:00:00</td>\n",
       "      <td>oil-and-gas-production-and-transport</td>\n",
       "      <td>co2e_100yr</td>\n",
       "      <td>NaN</td>\n",
       "      <td>2021</td>\n",
       "    </tr>\n",
       "    <tr>\n",
       "      <th>4</th>\n",
       "      <td>TON</td>\n",
       "      <td>2021-01-01 00:00:00</td>\n",
       "      <td>2021-12-31 00:00:00</td>\n",
       "      <td>oil-and-gas-production-and-transport</td>\n",
       "      <td>co2e_20yr</td>\n",
       "      <td>NaN</td>\n",
       "      <td>2021</td>\n",
       "    </tr>\n",
       "  </tbody>\n",
       "</table>\n",
       "</div>"
      ],
      "text/plain": [
       "  iso3_country           start_time             end_time  \\\n",
       "0          AGO  2015-01-01 00:00:00  2015-12-31 00:00:00   \n",
       "1          TON  2021-01-01 00:00:00  2021-12-31 00:00:00   \n",
       "2          TON  2021-01-01 00:00:00  2021-12-31 00:00:00   \n",
       "3          TON  2021-01-01 00:00:00  2021-12-31 00:00:00   \n",
       "4          TON  2021-01-01 00:00:00  2021-12-31 00:00:00   \n",
       "\n",
       "              original_inventory_sector         gas  emissions_quantity  year  \n",
       "0  oil-and-gas-production-and-transport         n2o                 0.0  2015  \n",
       "1  oil-and-gas-production-and-transport         co2                 NaN  2021  \n",
       "2  oil-and-gas-production-and-transport         ch4                 NaN  2021  \n",
       "3  oil-and-gas-production-and-transport  co2e_100yr                 NaN  2021  \n",
       "4  oil-and-gas-production-and-transport   co2e_20yr                 NaN  2021  "
      ]
     },
     "execution_count": 13,
     "metadata": {},
     "output_type": "execute_result"
    }
   ],
   "source": [
    "# Retrieve year from start_time\n",
    "oil_gas_df['year'] = pd.DatetimeIndex(oil_gas_df['end_time']).year\n",
    "oil_gas_df.head()"
   ]
  },
  {
   "cell_type": "code",
   "execution_count": 14,
   "id": "765bdb20",
   "metadata": {},
   "outputs": [
    {
     "data": {
      "text/html": [
       "<div>\n",
       "<style scoped>\n",
       "    .dataframe tbody tr th:only-of-type {\n",
       "        vertical-align: middle;\n",
       "    }\n",
       "\n",
       "    .dataframe tbody tr th {\n",
       "        vertical-align: top;\n",
       "    }\n",
       "\n",
       "    .dataframe thead th {\n",
       "        text-align: right;\n",
       "    }\n",
       "</style>\n",
       "<table border=\"1\" class=\"dataframe\">\n",
       "  <thead>\n",
       "    <tr style=\"text-align: right;\">\n",
       "      <th></th>\n",
       "      <th>iso3_country</th>\n",
       "      <th>original_inventory_sector</th>\n",
       "      <th>gas</th>\n",
       "      <th>emissions_quantity</th>\n",
       "      <th>year</th>\n",
       "    </tr>\n",
       "  </thead>\n",
       "  <tbody>\n",
       "    <tr>\n",
       "      <th>1374</th>\n",
       "      <td>PHL</td>\n",
       "      <td>oil-and-gas-production-and-transport</td>\n",
       "      <td>co2</td>\n",
       "      <td>743875.99360</td>\n",
       "      <td>2017</td>\n",
       "    </tr>\n",
       "    <tr>\n",
       "      <th>106</th>\n",
       "      <td>TWN</td>\n",
       "      <td>oil-and-gas-production-and-transport</td>\n",
       "      <td>ch4</td>\n",
       "      <td>NaN</td>\n",
       "      <td>2021</td>\n",
       "    </tr>\n",
       "    <tr>\n",
       "      <th>2351</th>\n",
       "      <td>JOR</td>\n",
       "      <td>oil-and-gas-production-and-transport</td>\n",
       "      <td>co2e_100yr</td>\n",
       "      <td>62610.54519</td>\n",
       "      <td>2020</td>\n",
       "    </tr>\n",
       "    <tr>\n",
       "      <th>7180</th>\n",
       "      <td>IRL</td>\n",
       "      <td>oil-and-gas-production-and-transport</td>\n",
       "      <td>n2o</td>\n",
       "      <td>0.00000</td>\n",
       "      <td>2017</td>\n",
       "    </tr>\n",
       "    <tr>\n",
       "      <th>4562</th>\n",
       "      <td>VCT</td>\n",
       "      <td>oil-and-gas-production-and-transport</td>\n",
       "      <td>ch4</td>\n",
       "      <td>NaN</td>\n",
       "      <td>2017</td>\n",
       "    </tr>\n",
       "  </tbody>\n",
       "</table>\n",
       "</div>"
      ],
      "text/plain": [
       "     iso3_country             original_inventory_sector         gas  \\\n",
       "1374          PHL  oil-and-gas-production-and-transport         co2   \n",
       "106           TWN  oil-and-gas-production-and-transport         ch4   \n",
       "2351          JOR  oil-and-gas-production-and-transport  co2e_100yr   \n",
       "7180          IRL  oil-and-gas-production-and-transport         n2o   \n",
       "4562          VCT  oil-and-gas-production-and-transport         ch4   \n",
       "\n",
       "      emissions_quantity  year  \n",
       "1374        743875.99360  2017  \n",
       "106                  NaN  2021  \n",
       "2351         62610.54519  2020  \n",
       "7180             0.00000  2017  \n",
       "4562                 NaN  2017  "
      ]
     },
     "execution_count": 14,
     "metadata": {},
     "output_type": "execute_result"
    }
   ],
   "source": [
    "# Drop start_time and end_time columns\n",
    "oil_gas_df = oil_gas_df.drop(['start_time','end_time'], axis=1)\n",
    "oil_gas_df.sample(5)"
   ]
  },
  {
   "cell_type": "code",
   "execution_count": 15,
   "id": "5ca9d305",
   "metadata": {},
   "outputs": [
    {
     "data": {
      "text/plain": [
       "3848"
      ]
     },
     "execution_count": 15,
     "metadata": {},
     "output_type": "execute_result"
    }
   ],
   "source": [
    "# Check for empty values/NaN in emissions_quantity \n",
    "oil_gas_df['emissions_quantity'].isnull().sum()"
   ]
  },
  {
   "cell_type": "markdown",
   "id": "5da0a4e9",
   "metadata": {},
   "source": [
    "44% of values in emissions_quantity are null or empty"
   ]
  },
  {
   "cell_type": "code",
   "execution_count": 17,
   "id": "67675650",
   "metadata": {},
   "outputs": [
    {
     "data": {
      "text/html": [
       "<div>\n",
       "<style scoped>\n",
       "    .dataframe tbody tr th:only-of-type {\n",
       "        vertical-align: middle;\n",
       "    }\n",
       "\n",
       "    .dataframe tbody tr th {\n",
       "        vertical-align: top;\n",
       "    }\n",
       "\n",
       "    .dataframe thead th {\n",
       "        text-align: right;\n",
       "    }\n",
       "</style>\n",
       "<table border=\"1\" class=\"dataframe\">\n",
       "  <thead>\n",
       "    <tr style=\"text-align: right;\">\n",
       "      <th></th>\n",
       "      <th>iso3_country</th>\n",
       "      <th>original_inventory_sector</th>\n",
       "      <th>gas</th>\n",
       "      <th>emissions_quantity</th>\n",
       "      <th>year</th>\n",
       "    </tr>\n",
       "  </thead>\n",
       "  <tbody>\n",
       "    <tr>\n",
       "      <th>0</th>\n",
       "      <td>AGO</td>\n",
       "      <td>oil-and-gas-production-and-transport</td>\n",
       "      <td>n2o</td>\n",
       "      <td>0.0</td>\n",
       "      <td>2015</td>\n",
       "    </tr>\n",
       "    <tr>\n",
       "      <th>85</th>\n",
       "      <td>LVA</td>\n",
       "      <td>oil-and-gas-production-and-transport</td>\n",
       "      <td>co2</td>\n",
       "      <td>0.0</td>\n",
       "      <td>2021</td>\n",
       "    </tr>\n",
       "    <tr>\n",
       "      <th>86</th>\n",
       "      <td>LVA</td>\n",
       "      <td>oil-and-gas-production-and-transport</td>\n",
       "      <td>ch4</td>\n",
       "      <td>0.0</td>\n",
       "      <td>2021</td>\n",
       "    </tr>\n",
       "    <tr>\n",
       "      <th>87</th>\n",
       "      <td>LVA</td>\n",
       "      <td>oil-and-gas-production-and-transport</td>\n",
       "      <td>co2e_100yr</td>\n",
       "      <td>0.0</td>\n",
       "      <td>2021</td>\n",
       "    </tr>\n",
       "    <tr>\n",
       "      <th>88</th>\n",
       "      <td>LVA</td>\n",
       "      <td>oil-and-gas-production-and-transport</td>\n",
       "      <td>co2e_20yr</td>\n",
       "      <td>0.0</td>\n",
       "      <td>2021</td>\n",
       "    </tr>\n",
       "  </tbody>\n",
       "</table>\n",
       "</div>"
      ],
      "text/plain": [
       "   iso3_country             original_inventory_sector         gas  \\\n",
       "0           AGO  oil-and-gas-production-and-transport         n2o   \n",
       "85          LVA  oil-and-gas-production-and-transport         co2   \n",
       "86          LVA  oil-and-gas-production-and-transport         ch4   \n",
       "87          LVA  oil-and-gas-production-and-transport  co2e_100yr   \n",
       "88          LVA  oil-and-gas-production-and-transport   co2e_20yr   \n",
       "\n",
       "    emissions_quantity  year  \n",
       "0                  0.0  2015  \n",
       "85                 0.0  2021  \n",
       "86                 0.0  2021  \n",
       "87                 0.0  2021  \n",
       "88                 0.0  2021  "
      ]
     },
     "execution_count": 17,
     "metadata": {},
     "output_type": "execute_result"
    }
   ],
   "source": [
    "# Create a new dataframe by removing rows with missing values\n",
    "oil_gas_df = oil_gas_df.dropna(axis='rows', how='any')\n",
    "oil_gas_df.head()"
   ]
  },
  {
   "cell_type": "code",
   "execution_count": 18,
   "id": "5b42c7f6",
   "metadata": {},
   "outputs": [],
   "source": [
    "oil_gas_df = oil_gas_df[oil_gas_df['emissions_quantity']!=0]"
   ]
  },
  {
   "cell_type": "code",
   "execution_count": 19,
   "id": "fcbd8c5b",
   "metadata": {},
   "outputs": [
    {
     "data": {
      "text/plain": [
       "(2516, 5)"
      ]
     },
     "execution_count": 19,
     "metadata": {},
     "output_type": "execute_result"
    }
   ],
   "source": [
    "oil_gas_df.shape"
   ]
  },
  {
   "cell_type": "code",
   "execution_count": 29,
   "id": "7af4c103",
   "metadata": {},
   "outputs": [
    {
     "data": {
      "text/html": [
       "<div>\n",
       "<style scoped>\n",
       "    .dataframe tbody tr th:only-of-type {\n",
       "        vertical-align: middle;\n",
       "    }\n",
       "\n",
       "    .dataframe tbody tr th {\n",
       "        vertical-align: top;\n",
       "    }\n",
       "\n",
       "    .dataframe thead th {\n",
       "        text-align: right;\n",
       "    }\n",
       "</style>\n",
       "<table border=\"1\" class=\"dataframe\">\n",
       "  <thead>\n",
       "    <tr style=\"text-align: right;\">\n",
       "      <th></th>\n",
       "      <th>country</th>\n",
       "      <th>sector</th>\n",
       "      <th>gas</th>\n",
       "      <th>emissions_quantity</th>\n",
       "      <th>year</th>\n",
       "    </tr>\n",
       "  </thead>\n",
       "  <tbody>\n",
       "    <tr>\n",
       "      <th>2834</th>\n",
       "      <td>TTO</td>\n",
       "      <td>oil-and-gas-production-and-transport</td>\n",
       "      <td>co2e_100yr</td>\n",
       "      <td>13911602.33</td>\n",
       "      <td>2021</td>\n",
       "    </tr>\n",
       "  </tbody>\n",
       "</table>\n",
       "</div>"
      ],
      "text/plain": [
       "     country                                sector         gas  \\\n",
       "2834     TTO  oil-and-gas-production-and-transport  co2e_100yr   \n",
       "\n",
       "      emissions_quantity  year  \n",
       "2834         13911602.33  2021  "
      ]
     },
     "execution_count": 29,
     "metadata": {},
     "output_type": "execute_result"
    }
   ],
   "source": [
    "oil_gas_df.rename(columns = {'iso3_country':'country', 'original_inventory_sector':'sector'}, inplace = True)\n",
    "oil_gas_df.sample()"
   ]
  },
  {
   "cell_type": "code",
   "execution_count": 30,
   "id": "411193bd",
   "metadata": {},
   "outputs": [],
   "source": [
    "# Export the cleaned dataframe into csv\n",
    "oil_gas_df.to_csv(\"../Resources/clean_country_oil_gas.csv\")"
   ]
  },
  {
   "cell_type": "markdown",
   "id": "c035a9b1",
   "metadata": {},
   "source": [
    "## Data exploration"
   ]
  },
  {
   "cell_type": "code",
   "execution_count": 21,
   "id": "8cabcb7a",
   "metadata": {},
   "outputs": [
    {
     "data": {
      "text/plain": [
       "iso3_country                   92\n",
       "original_inventory_sector       1\n",
       "gas                             4\n",
       "emissions_quantity           2488\n",
       "year                            7\n",
       "dtype: int64"
      ]
     },
     "execution_count": 21,
     "metadata": {},
     "output_type": "execute_result"
    }
   ],
   "source": [
    "# Use the clean dataframe to explore\n",
    "oil_gas_df.nunique()"
   ]
  },
  {
   "cell_type": "code",
   "execution_count": 25,
   "id": "e563ae03",
   "metadata": {},
   "outputs": [
    {
     "data": {
      "text/plain": [
       "2019    368\n",
       "2020    364\n",
       "2021    364\n",
       "2018    360\n",
       "2017    356\n",
       "2015    352\n",
       "2016    352\n",
       "Name: year, dtype: int64"
      ]
     },
     "execution_count": 25,
     "metadata": {},
     "output_type": "execute_result"
    }
   ],
   "source": [
    "oil_gas_df['year'].value_counts()"
   ]
  },
  {
   "cell_type": "code",
   "execution_count": 26,
   "id": "88f3d708",
   "metadata": {},
   "outputs": [
    {
     "data": {
      "text/plain": [
       "co2           629\n",
       "ch4           629\n",
       "co2e_100yr    629\n",
       "co2e_20yr     629\n",
       "Name: gas, dtype: int64"
      ]
     },
     "execution_count": 26,
     "metadata": {},
     "output_type": "execute_result"
    }
   ],
   "source": [
    "oil_gas_df['gas'].value_counts()"
   ]
  },
  {
   "cell_type": "code",
   "execution_count": null,
   "id": "192d905c",
   "metadata": {},
   "outputs": [],
   "source": [
    "oil_gas_df.rename(columns = {'iso3_country':'country', 'original_inventory_sector':'sector'}, inplace = True)"
   ]
  },
  {
   "cell_type": "code",
   "execution_count": 31,
   "id": "1a8d4a03",
   "metadata": {},
   "outputs": [],
   "source": [
    "import matplotlib.pyplot as plt\n",
    "import seaborn as sns"
   ]
  },
  {
   "cell_type": "code",
   "execution_count": 33,
   "id": "02fa2656",
   "metadata": {},
   "outputs": [],
   "source": [
    "features = oil_gas_df[['country','sector','gas','emissions_quantity','year']]"
   ]
  },
  {
   "cell_type": "markdown",
   "id": "8e1859b1",
   "metadata": {},
   "source": [
    "- Label: emissions_quantity"
   ]
  },
  {
   "cell_type": "code",
   "execution_count": 34,
   "id": "de06c625",
   "metadata": {},
   "outputs": [
    {
     "data": {
      "image/png": "[encoded data removed]",
      "text/plain": [
       "<Figure size 3000x2000 with 2 Axes>"
      ]
     },
     "metadata": {},
     "output_type": "display_data"
    }
   ],
   "source": [
    "# Plot a correlation matrix\n",
    "sns.set(font_scale=2)\n",
    "f,ax=plt.subplots(figsize=(30,20))\n",
    "sns.heatmap(features.corr(), annot=True, cmap='coolwarm', fmt = \".2f\", center=0, vmin=-1, vmax=1)\n",
    "plt.title('Correlation between features', fontsize=25, weight='bold' )\n",
    "plt.show()"
   ]
  },
  {
   "cell_type": "markdown",
   "id": "5d188e28",
   "metadata": {},
   "source": [
    "This dataset is discarded as it has no dependent features on label. "
   ]
  },
  {
   "cell_type": "code",
   "execution_count": null,
   "id": "baeaae4b",
   "metadata": {},
   "outputs": [],
   "source": []
  }
 ],
 "metadata": {
  "kernelspec": {
   "display_name": "mlenv",
   "language": "python",
   "name": "mlenv"
  },
  "language_info": {
   "codemirror_mode": {
    "name": "ipython",
    "version": 3
   },
   "file_extension": ".py",
   "mimetype": "text/x-python",
   "name": "python",
   "nbconvert_exporter": "python",
   "pygments_lexer": "ipython3",
   "version": "3.7.13"
  }
 },
 "nbformat": 4,
 "nbformat_minor": 5
}
